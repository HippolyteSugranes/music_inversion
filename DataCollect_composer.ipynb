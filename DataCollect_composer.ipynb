{
 "cells": [
  {
   "cell_type": "markdown",
   "metadata": {},
   "source": [
    "# Récupération des données sur youtube\n",
    "\n",
    "Les données utilisées proviennent intégralement de youtube, différentes fonctions sont définies ci-dessous afin de les télécharger et de les analyser\n",
    "\n"
   ]
  },
  {
   "cell_type": "code",
   "execution_count": null,
   "metadata": {},
   "outputs": [],
   "source": [
    "from __future__ import unicode_literals\n",
    "import youtube_dl\n",
    "import ffmpeg\n",
    "import librosa\n",
    "import os\n",
    "from tqdm import tqdm\n",
    "from pydub.utils import make_chunks\n",
    "from pydub import AudioSegment\n",
    "import librosa\n",
    "import matplotlib.pyplot as plt\n",
    "import librosa.display\n",
    "import numpy as np\n",
    "import seaborn as sns\n",
    "import gc"
   ]
  },
  {
   "cell_type": "code",
   "execution_count": null,
   "metadata": {},
   "outputs": [],
   "source": [
    "def youtube_download(urls):\n",
    "    #Téléchargement depuis les urls contenues dans la liste urls\n",
    "    class MyLogger(object):\n",
    "        def debug(self, msg):\n",
    "            pass\n",
    "        def warning(self, msg):\n",
    "            pass\n",
    "        def error(self, msg):\n",
    "            print(msg)\n",
    "\n",
    "    def my_hook(d):\n",
    "        if d['status'] == 'finished':\n",
    "            print('Done downloading, now converting ...')\n",
    "\n",
    "    ydl_opts = {\n",
    "        'format': 'bestaudio/best',\n",
    "        'postprocessors': [{\n",
    "            'key': 'FFmpegExtractAudio',\n",
    "            'preferredcodec': 'wav',\n",
    "            'preferredquality': '192',\n",
    "        }],\n",
    "        'logger': MyLogger(),\n",
    "        'progress_hooks': [my_hook],\n",
    "    }\n",
    "\n",
    "    with youtube_dl.YoutubeDL(ydl_opts) as ydl:\n",
    "        ydl.download(urls)\n",
    "    return True"
   ]
  },
  {
   "cell_type": "code",
   "execution_count": null,
   "metadata": {},
   "outputs": [],
   "source": [
    "def split_files(file_path,directory,name,lenght):\n",
    "    #séparation d'un fichier audio en fichier de longueur fixe\n",
    "    \n",
    "    myaudio = AudioSegment.from_file(file_path , \"wav\") \n",
    "    chunk_length_ms = lenght * 1000 # pydub calculates in millisec\n",
    "    chunks = make_chunks(myaudio, chunk_length_ms) #Make chunks of lenght sec\n",
    "    \n",
    "    for i,chunk in enumerate(chunks):\n",
    "        chunk_name = \"{}/{}_{}.wav\".format(directory,name,i)\n",
    "        #print(\"exporting\", chunk_name)\n",
    "        if i < len(chunk)-2:\n",
    "            chunk.export(chunk_name, format=\"wav\")\n",
    "    return True"
   ]
  },
  {
   "cell_type": "code",
   "execution_count": null,
   "metadata": {},
   "outputs": [],
   "source": [
    "def audio_to_jpg(path_in,path_out):\n",
    "    #conversion d'un fichier audio en jpg (libraire librosa)\n",
    "    sample,sampling_rate = librosa.load(path_in,sr = 44100)\n",
    "    stft = librosa.core.stft(sample,n_fft = 4096,hop_length = 512)\n",
    "    stft_amp = np.abs(stft)\n",
    "    to_db = librosa.amplitude_to_db(stft_amp)\n",
    "    fig, ax = plt.subplots(nrows=1, ncols=1) \n",
    "    ax = librosa.display.specshow(to_db,sr = sampling_rate,hop_length=512,y_axis = 'log',cmap = 'gray_r')\n",
    "    fig.savefig(path_out,transparent = True)\n",
    "    plt.close(fig)\n",
    "    gc.collect()\n",
    "    return True"
   ]
  },
  {
   "cell_type": "code",
   "execution_count": null,
   "metadata": {},
   "outputs": [],
   "source": [
    "def creation_arbo(name_project,name_video):\n",
    "    #création de l'arborescence des données\n",
    "    if 'dataset' not in os.listdir():\n",
    "        os.mkdir('dataset')\n",
    "    \n",
    "    project_path = 'dataset/{}'.format(name_project)\n",
    "    if name_project not in os.listdir('dataset'):\n",
    "        os.mkdir(project_path)\n",
    "    \n",
    "    for folder in ['wav','jpg']:\n",
    "        folder_path = project_path + '/' + folder\n",
    "        if folder not in os.listdir(project_path):\n",
    "            os.mkdir(folder_path)\n",
    "        for folder_2 in name_video:\n",
    "            if folder_2 not in os.listdir(folder_path):\n",
    "                os.mkdir(folder_path + '/' + folder_2)\n",
    "    return True\n",
    "        \n",
    "    "
   ]
  },
  {
   "cell_type": "code",
   "execution_count": null,
   "metadata": {},
   "outputs": [],
   "source": [
    "def download_and_converting(name_video,name_project,lenght):\n",
    "    #Fonction principale: Création arborescence, téléchargement, découpage et conversion des vidéos\n",
    "    creation_arbo(name_project,name_video)\n",
    "    for name,video in name_video.items():\n",
    "        \n",
    "        found = video.split('=')[1]\n",
    "        \n",
    "        test = False\n",
    "        for i in os.listdir():\n",
    "            if found in i:\n",
    "                file_path = i\n",
    "                test = True\n",
    "                break\n",
    "        if not test:\n",
    "            youtube_download([video])\n",
    "            for i in os.listdir():\n",
    "                if found in i:\n",
    "                    file_path = i\n",
    "                    test = True\n",
    "                    break\n",
    "        \n",
    "        directory = 'dataset/' + name_project + '/wav/' + name\n",
    "        split_files(file_path,directory,name,lenght)\n",
    "        image_directory = 'dataset/' + name_project + '/jpg/' + name\n",
    "        \n",
    "        for file in tqdm(os.listdir(directory)):\n",
    "            path_in = directory + '/'+ file\n",
    "            jpg_file = file[:-4] + '.jpg'\n",
    "            path_out = image_directory +'/'+ jpg_file\n",
    "            if jpg_file not in os.listdir(image_directory):\n",
    "                audio_to_jpg(path_in,path_out)\n",
    "    return True"
   ]
  },
  {
   "cell_type": "markdown",
   "metadata": {},
   "source": [
    "# Download and convert\n",
    "- Les fonctions ci-dessus permettent de télécharger, depuis un dictionnaire de vidéo, des musiques, les découper en échantillons de longueur *lenght* et de les convertir en jpg"
   ]
  },
  {
   "cell_type": "code",
   "execution_count": null,
   "metadata": {},
   "outputs": [],
   "source": [
    "name_video = {'Chopin':'https://www.youtube.com/watch?v=YzoPmyelSzw',\n",
    "              'Debussy':'https://www.youtube.com/watch?v=9uKVI6_Fm4g',\n",
    "              'Beethoven':'https://www.youtube.com/watch?v=0BLaLv-jPQU',\n",
    "              'Schubert': 'https://www.youtube.com/watch?v=P8ZHToXlp1o'}\n",
    "\n",
    "name_project  = 'Composer_HD'\n",
    "lenght = 20 #s\n",
    "\n",
    "download_and_converting(name_video,name_project,lenght)"
   ]
  }
 ],
 "metadata": {
  "kernelspec": {
   "display_name": "Python 3",
   "language": "python",
   "name": "python3"
  },
  "language_info": {
   "codemirror_mode": {
    "name": "ipython",
    "version": 3
   },
   "file_extension": ".py",
   "mimetype": "text/x-python",
   "name": "python",
   "nbconvert_exporter": "python",
   "pygments_lexer": "ipython3",
   "version": "3.7.3"
  }
 },
 "nbformat": 4,
 "nbformat_minor": 2
}
